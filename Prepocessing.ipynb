{
  "nbformat": 4,
  "nbformat_minor": 5,
  "metadata": {
    "colab": {
      "name": "Sentiment Analysis.ipynb",
      "provenance": [],
      "collapsed_sections": []
    },
    "kernelspec": {
      "display_name": "Python 3 (ipykernel)",
      "language": "python",
      "name": "python3"
    },
    "language_info": {
      "codemirror_mode": {
        "name": "ipython",
        "version": 3
      },
      "file_extension": ".py",
      "mimetype": "text/x-python",
      "name": "python",
      "nbconvert_exporter": "python",
      "pygments_lexer": "ipython3",
      "version": "3.9.6"
    }
  },
  "cells": [
    {
      "cell_type": "markdown",
      "metadata": {
        "id": "f8a75e99"
      },
      "source": [
        "import sys\n",
        "!{sys.executable} -m pip install wordcloud-1.8.1-cp39-cp39-win_amd64.whl\n"
      ],
      "id": "f8a75e99"
    },
    {
      "cell_type": "markdown",
      "metadata": {
        "id": "KnuimLQVJFYq"
      },
      "source": [
        "#**Analisis Sentimen pada Permendikbud**\n",
        "\n",
        "\n",
        "\n",
        "---\n",
        "\n"
      ],
      "id": "KnuimLQVJFYq"
    },
    {
      "cell_type": "markdown",
      "metadata": {
        "id": "afxaX5mmKwpf"
      },
      "source": [
        "Nama Peserta:\n",
        "- Ferdy Nanda Riza\n",
        "- Shabrina Novaindah Dwiyamti\n",
        "- Nalurisa Izma Mardiana\n",
        "\n",
        "Universitas Host: Universitas Telkom\n",
        "\n",
        "Kelas: TelU-04\n",
        "\n",
        "Kelompok: 3\n"
      ],
      "id": "afxaX5mmKwpf"
    },
    {
      "cell_type": "markdown",
      "metadata": {
        "id": "ufMCWoSmIxHz"
      },
      "source": [
        "#Import Library yang dibutuhkan"
      ],
      "id": "ufMCWoSmIxHz"
    },
    {
      "cell_type": "code",
      "metadata": {
        "id": "06532287"
      },
      "source": [
        "import tweepy\n",
        "from textblob import TextBlob\n",
        "from wordcloud import WordCloud\n",
        "import pandas as pd\n",
        "import numpy as np\n",
        "import re\n",
        "import matplotlib.pyplot as plt\n",
        "plt.style.use('fivethirtyeight')\n",
        "from google.colab import files\n",
        "import io"
      ],
      "id": "06532287",
      "execution_count": null,
      "outputs": []
    },
    {
      "cell_type": "markdown",
      "metadata": {
        "id": "li9NOfkAJ3L0"
      },
      "source": [
        "#Mengupload file yang berisi kode API yang telah didapat"
      ],
      "id": "li9NOfkAJ3L0"
    },
    {
      "cell_type": "markdown",
      "metadata": {
        "id": "OXQVbcwrJ0kb"
      },
      "source": [
        "Untuk mendapatkan kode API kita harus terdaftar sebagai developer dan mengisi berbagai pertanyaan yang diajukan."
      ],
      "id": "OXQVbcwrJ0kb"
    },
    {
      "cell_type": "code",
      "metadata": {
        "colab": {
          "resources": {
            "http://localhost:8080/nbextensions/google.colab/files.js": {
              "data": "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",
              "ok": true,
              "headers": [
                [
                  "content-type",
                  "application/javascript"
                ]
              ],
              "status": 200,
              "status_text": ""
            }
          },
          "base_uri": "https://localhost:8080/",
          "height": 78
        },
        "id": "83d9f281",
        "outputId": "8ab7e9e1-aea3-415f-8ce6-df8ff2705469"
      },
      "source": [
        "#Mengambil data\n",
        "upload = files.upload()"
      ],
      "id": "83d9f281",
      "execution_count": null,
      "outputs": [
        {
          "output_type": "display_data",
          "data": {
            "text/html": [
              "\n",
              "     <input type=\"file\" id=\"files-66ff26df-0092-45d9-bc34-a63f2fa25e71\" name=\"files[]\" multiple disabled\n",
              "        style=\"border:none\" />\n",
              "     <output id=\"result-66ff26df-0092-45d9-bc34-a63f2fa25e71\">\n",
              "      Upload widget is only available when the cell has been executed in the\n",
              "      current browser session. Please rerun this cell to enable.\n",
              "      </output>\n",
              "      <script src=\"/nbextensions/google.colab/files.js\"></script> "
            ],
            "text/plain": [
              "<IPython.core.display.HTML object>"
            ]
          },
          "metadata": {}
        },
        {
          "output_type": "stream",
          "name": "stdout",
          "text": [
            "Saving API.csv to API.csv\n"
          ]
        }
      ]
    },
    {
      "cell_type": "code",
      "metadata": {
        "id": "zaCZY4VI9bHY"
      },
      "source": [
        "#membaca data dari file csv\n",
        "log = pd.read_csv(io.BytesIO(upload['API.csv']))"
      ],
      "id": "zaCZY4VI9bHY",
      "execution_count": null,
      "outputs": []
    },
    {
      "cell_type": "code",
      "metadata": {
        "id": "471d9d15"
      },
      "source": [
        "#API Twitter\n",
        "consumerKey = log['APIkey'][0]\n",
        "consumerSecret = log['APIKeysecret'][0]\n",
        "accessToken = log['accestoken'][0]\n",
        "accessTokenSecret = log['accestokensecret'][0]"
      ],
      "id": "471d9d15",
      "execution_count": null,
      "outputs": []
    },
    {
      "cell_type": "code",
      "metadata": {
        "id": "2a58792a"
      },
      "source": [
        "#Membuat objek autentikasi\n",
        "authenticate = tweepy.OAuthHandler(consumerKey, consumerSecret)\n",
        "\n",
        "#Mengatur akses token\n",
        "authenticate.set_access_token(accessToken, accessTokenSecret)\n",
        "\n",
        "#Membuat objek API saat otentifikasi\n",
        "api = tweepy.API(authenticate, wait_on_rate_limit=True)"
      ],
      "id": "2a58792a",
      "execution_count": null,
      "outputs": []
    },
    {
      "cell_type": "markdown",
      "metadata": {
        "id": "Aa8-A6I5WKoJ"
      },
      "source": [
        "#Menentukan topik apa yang akan dilakukan analisis"
      ],
      "id": "Aa8-A6I5WKoJ"
    },
    {
      "cell_type": "markdown",
      "metadata": {
        "id": "dVT5-GHmWV4n"
      },
      "source": [
        "Setelah kode API didapatkan, maka langkah selanjutnya adalah melakukan filter untuk data yang akan dilakukan analisis. Kami menggunakan data berdasarkan kolom pencarian dengan kata Permendikbud, dengan 1000 tweet terakhir menggunakan bahasa Indonesia."
      ],
      "id": "dVT5-GHmWV4n"
    },
    {
      "cell_type": "code",
      "metadata": {
        "id": "ffa1874d"
      },
      "source": [
        "#melakukan filter untuk data \n",
        "search_term = 'Permendikbud -filter:retweets'\n",
        "tweet_amount = 1000\n",
        "since_date = '2021-10-25'"
      ],
      "id": "ffa1874d",
      "execution_count": null,
      "outputs": []
    },
    {
      "cell_type": "code",
      "metadata": {
        "id": "828b967a"
      },
      "source": [
        "#membuat list\n",
        "posts = list(tweepy.Cursor(api.search, q=search_term, lang='id', tweet_mode='extended').items(tweet_amount))"
      ],
      "id": "828b967a",
      "execution_count": null,
      "outputs": []
    },
    {
      "cell_type": "code",
      "metadata": {
        "id": "fbkCa5qgJV7f"
      },
      "source": [
        "import json #mengkonversi kamus python ke bentuk json string\n",
        "from pandas.io.json import json_normalize\n",
        "\n",
        "# function to convert _json to JSON\n",
        "def jsonify_tweepy(tweepy_object):\n",
        "    json_str = json.dumps(tweepy_object._json)\n",
        "    return json.loads(json_str)\n"
      ],
      "id": "fbkCa5qgJV7f",
      "execution_count": null,
      "outputs": []
    },
    {
      "cell_type": "code",
      "metadata": {
        "colab": {
          "base_uri": "https://localhost:8080/"
        },
        "id": "CkNR-APKJZCr",
        "outputId": "5fca9cb9-bf88-47e4-f751-d4e59af623a0"
      },
      "source": [
        "# Call the function and unload each _json into follower_list\n",
        "posts_list = [jsonify_tweepy(post) for post in posts]\n",
        "\n",
        "# Convert followers_list to a pandas dataframe\n",
        "df = json_normalize(posts_list)"
      ],
      "id": "CkNR-APKJZCr",
      "execution_count": null,
      "outputs": [
        {
          "output_type": "stream",
          "name": "stderr",
          "text": [
            "/usr/local/lib/python3.7/dist-packages/ipykernel_launcher.py:5: FutureWarning: pandas.io.json.json_normalize is deprecated, use pandas.json_normalize instead\n",
            "  \"\"\"\n"
          ]
        }
      ]
    },
    {
      "cell_type": "markdown",
      "metadata": {
        "id": "S1uHKo1DXnFm"
      },
      "source": [
        "#Melihat data frame 5 terbawah"
      ],
      "id": "S1uHKo1DXnFm"
    },
    {
      "cell_type": "code",
      "metadata": {
        "colab": {
          "base_uri": "https://localhost:8080/",
          "height": 437
        },
        "id": "m7p2Ah-X5hjM",
        "outputId": "1fa19a90-eb75-4c2b-8833-adebc88b89da"
      },
      "source": [
        "#melihat data frame 5 terbawah\n",
        "df.tail()"
      ],
      "id": "m7p2Ah-X5hjM",
      "execution_count": null,
      "outputs": [
        {
          "output_type": "execute_result",
          "data": {
            "text/html": [
              "<div>\n",
              "<style scoped>\n",
              "    .dataframe tbody tr th:only-of-type {\n",
              "        vertical-align: middle;\n",
              "    }\n",
              "\n",
              "    .dataframe tbody tr th {\n",
              "        vertical-align: top;\n",
              "    }\n",
              "\n",
              "    .dataframe thead th {\n",
              "        text-align: right;\n",
              "    }\n",
              "</style>\n",
              "<table border=\"1\" class=\"dataframe\">\n",
              "  <thead>\n",
              "    <tr style=\"text-align: right;\">\n",
              "      <th></th>\n",
              "      <th>created_at</th>\n",
              "      <th>id</th>\n",
              "      <th>id_str</th>\n",
              "      <th>full_text</th>\n",
              "      <th>truncated</th>\n",
              "      <th>display_text_range</th>\n",
              "      <th>source</th>\n",
              "      <th>in_reply_to_status_id</th>\n",
              "      <th>in_reply_to_status_id_str</th>\n",
              "      <th>in_reply_to_user_id</th>\n",
              "      <th>in_reply_to_user_id_str</th>\n",
              "      <th>in_reply_to_screen_name</th>\n",
              "      <th>geo</th>\n",
              "      <th>coordinates</th>\n",
              "      <th>place</th>\n",
              "      <th>contributors</th>\n",
              "      <th>is_quote_status</th>\n",
              "      <th>quoted_status_id</th>\n",
              "      <th>quoted_status_id_str</th>\n",
              "      <th>retweet_count</th>\n",
              "      <th>favorite_count</th>\n",
              "      <th>favorited</th>\n",
              "      <th>retweeted</th>\n",
              "      <th>possibly_sensitive</th>\n",
              "      <th>lang</th>\n",
              "      <th>entities.hashtags</th>\n",
              "      <th>entities.symbols</th>\n",
              "      <th>entities.user_mentions</th>\n",
              "      <th>entities.urls</th>\n",
              "      <th>metadata.iso_language_code</th>\n",
              "      <th>metadata.result_type</th>\n",
              "      <th>user.id</th>\n",
              "      <th>user.id_str</th>\n",
              "      <th>user.name</th>\n",
              "      <th>user.screen_name</th>\n",
              "      <th>user.location</th>\n",
              "      <th>user.description</th>\n",
              "      <th>user.url</th>\n",
              "      <th>user.entities.description.urls</th>\n",
              "      <th>user.protected</th>\n",
              "      <th>...</th>\n",
              "      <th>quoted_status.user.profile_sidebar_fill_color</th>\n",
              "      <th>quoted_status.user.profile_text_color</th>\n",
              "      <th>quoted_status.user.profile_use_background_image</th>\n",
              "      <th>quoted_status.user.has_extended_profile</th>\n",
              "      <th>quoted_status.user.default_profile</th>\n",
              "      <th>quoted_status.user.default_profile_image</th>\n",
              "      <th>quoted_status.user.following</th>\n",
              "      <th>quoted_status.user.follow_request_sent</th>\n",
              "      <th>quoted_status.user.notifications</th>\n",
              "      <th>quoted_status.user.translator_type</th>\n",
              "      <th>quoted_status.user.withheld_in_countries</th>\n",
              "      <th>quoted_status.geo</th>\n",
              "      <th>quoted_status.coordinates</th>\n",
              "      <th>quoted_status.place</th>\n",
              "      <th>quoted_status.contributors</th>\n",
              "      <th>quoted_status.is_quote_status</th>\n",
              "      <th>quoted_status.retweet_count</th>\n",
              "      <th>quoted_status.favorite_count</th>\n",
              "      <th>quoted_status.favorited</th>\n",
              "      <th>quoted_status.retweeted</th>\n",
              "      <th>quoted_status.possibly_sensitive</th>\n",
              "      <th>quoted_status.lang</th>\n",
              "      <th>quoted_status.user.entities.url.urls</th>\n",
              "      <th>entities.media</th>\n",
              "      <th>extended_entities.media</th>\n",
              "      <th>user.entities.url.urls</th>\n",
              "      <th>place.id</th>\n",
              "      <th>place.url</th>\n",
              "      <th>place.place_type</th>\n",
              "      <th>place.name</th>\n",
              "      <th>place.full_name</th>\n",
              "      <th>place.country_code</th>\n",
              "      <th>place.country</th>\n",
              "      <th>place.contained_within</th>\n",
              "      <th>place.bounding_box.type</th>\n",
              "      <th>place.bounding_box.coordinates</th>\n",
              "      <th>quoted_status.entities.media</th>\n",
              "      <th>quoted_status.extended_entities.media</th>\n",
              "      <th>quoted_status.quoted_status_id</th>\n",
              "      <th>quoted_status.quoted_status_id_str</th>\n",
              "    </tr>\n",
              "  </thead>\n",
              "  <tbody>\n",
              "    <tr>\n",
              "      <th>995</th>\n",
              "      <td>Thu Nov 18 00:05:19 +0000 2021</td>\n",
              "      <td>1461123316945588224</td>\n",
              "      <td>1461123316945588224</td>\n",
              "      <td>@muslimahnewscom Tolak permendikbud PPKS</td>\n",
              "      <td>False</td>\n",
              "      <td>[17, 40]</td>\n",
              "      <td>&lt;a href=\"http://twitter.com/download/android\" ...</td>\n",
              "      <td>1.461116e+18</td>\n",
              "      <td>1461115796977979393</td>\n",
              "      <td>1.434670e+18</td>\n",
              "      <td>1434669800588931073</td>\n",
              "      <td>muslimahnewscom</td>\n",
              "      <td>None</td>\n",
              "      <td>None</td>\n",
              "      <td>NaN</td>\n",
              "      <td>None</td>\n",
              "      <td>False</td>\n",
              "      <td>NaN</td>\n",
              "      <td>NaN</td>\n",
              "      <td>0</td>\n",
              "      <td>0</td>\n",
              "      <td>False</td>\n",
              "      <td>False</td>\n",
              "      <td>NaN</td>\n",
              "      <td>in</td>\n",
              "      <td>[]</td>\n",
              "      <td>[]</td>\n",
              "      <td>[{'screen_name': 'muslimahnewscom', 'name': 'M...</td>\n",
              "      <td>[]</td>\n",
              "      <td>in</td>\n",
              "      <td>recent</td>\n",
              "      <td>1431286087096279040</td>\n",
              "      <td>1431286087096279040</td>\n",
              "      <td>Alice</td>\n",
              "      <td>Indomietelor021</td>\n",
              "      <td></td>\n",
              "      <td>Sayang Indonesia #GakFollowPorno</td>\n",
              "      <td>None</td>\n",
              "      <td>[]</td>\n",
              "      <td>False</td>\n",
              "      <td>...</td>\n",
              "      <td>NaN</td>\n",
              "      <td>NaN</td>\n",
              "      <td>NaN</td>\n",
              "      <td>NaN</td>\n",
              "      <td>NaN</td>\n",
              "      <td>NaN</td>\n",
              "      <td>NaN</td>\n",
              "      <td>NaN</td>\n",
              "      <td>NaN</td>\n",
              "      <td>NaN</td>\n",
              "      <td>NaN</td>\n",
              "      <td>NaN</td>\n",
              "      <td>NaN</td>\n",
              "      <td>NaN</td>\n",
              "      <td>NaN</td>\n",
              "      <td>NaN</td>\n",
              "      <td>NaN</td>\n",
              "      <td>NaN</td>\n",
              "      <td>NaN</td>\n",
              "      <td>NaN</td>\n",
              "      <td>NaN</td>\n",
              "      <td>NaN</td>\n",
              "      <td>NaN</td>\n",
              "      <td>NaN</td>\n",
              "      <td>NaN</td>\n",
              "      <td>NaN</td>\n",
              "      <td>NaN</td>\n",
              "      <td>NaN</td>\n",
              "      <td>NaN</td>\n",
              "      <td>NaN</td>\n",
              "      <td>NaN</td>\n",
              "      <td>NaN</td>\n",
              "      <td>NaN</td>\n",
              "      <td>NaN</td>\n",
              "      <td>NaN</td>\n",
              "      <td>NaN</td>\n",
              "      <td>NaN</td>\n",
              "      <td>NaN</td>\n",
              "      <td>NaN</td>\n",
              "      <td>NaN</td>\n",
              "    </tr>\n",
              "    <tr>\n",
              "      <th>996</th>\n",
              "      <td>Wed Nov 17 23:51:14 +0000 2021</td>\n",
              "      <td>1461119771080986625</td>\n",
              "      <td>1461119771080986625</td>\n",
              "      <td>Bagi  perguruan tinggi yang tidak melaksanakan...</td>\n",
              "      <td>False</td>\n",
              "      <td>[0, 243]</td>\n",
              "      <td>&lt;a href=\"http://twitter.com/download/android\" ...</td>\n",
              "      <td>NaN</td>\n",
              "      <td>None</td>\n",
              "      <td>NaN</td>\n",
              "      <td>None</td>\n",
              "      <td>None</td>\n",
              "      <td>None</td>\n",
              "      <td>None</td>\n",
              "      <td>NaN</td>\n",
              "      <td>None</td>\n",
              "      <td>False</td>\n",
              "      <td>NaN</td>\n",
              "      <td>NaN</td>\n",
              "      <td>0</td>\n",
              "      <td>2</td>\n",
              "      <td>False</td>\n",
              "      <td>False</td>\n",
              "      <td>False</td>\n",
              "      <td>in</td>\n",
              "      <td>[]</td>\n",
              "      <td>[]</td>\n",
              "      <td>[]</td>\n",
              "      <td>[]</td>\n",
              "      <td>in</td>\n",
              "      <td>recent</td>\n",
              "      <td>1444992335234830339</td>\n",
              "      <td>1444992335234830339</td>\n",
              "      <td>Ummu</td>\n",
              "      <td>adhelummu</td>\n",
              "      <td></td>\n",
              "      <td>Entah acun yg ke berapa\\nSemoga bisa grow up d...</td>\n",
              "      <td>None</td>\n",
              "      <td>[]</td>\n",
              "      <td>False</td>\n",
              "      <td>...</td>\n",
              "      <td>NaN</td>\n",
              "      <td>NaN</td>\n",
              "      <td>NaN</td>\n",
              "      <td>NaN</td>\n",
              "      <td>NaN</td>\n",
              "      <td>NaN</td>\n",
              "      <td>NaN</td>\n",
              "      <td>NaN</td>\n",
              "      <td>NaN</td>\n",
              "      <td>NaN</td>\n",
              "      <td>NaN</td>\n",
              "      <td>NaN</td>\n",
              "      <td>NaN</td>\n",
              "      <td>NaN</td>\n",
              "      <td>NaN</td>\n",
              "      <td>NaN</td>\n",
              "      <td>NaN</td>\n",
              "      <td>NaN</td>\n",
              "      <td>NaN</td>\n",
              "      <td>NaN</td>\n",
              "      <td>NaN</td>\n",
              "      <td>NaN</td>\n",
              "      <td>NaN</td>\n",
              "      <td>[{'id': 1461119759773143046, 'id_str': '146111...</td>\n",
              "      <td>[{'id': 1461119759773143046, 'id_str': '146111...</td>\n",
              "      <td>NaN</td>\n",
              "      <td>NaN</td>\n",
              "      <td>NaN</td>\n",
              "      <td>NaN</td>\n",
              "      <td>NaN</td>\n",
              "      <td>NaN</td>\n",
              "      <td>NaN</td>\n",
              "      <td>NaN</td>\n",
              "      <td>NaN</td>\n",
              "      <td>NaN</td>\n",
              "      <td>NaN</td>\n",
              "      <td>NaN</td>\n",
              "      <td>NaN</td>\n",
              "      <td>NaN</td>\n",
              "      <td>NaN</td>\n",
              "    </tr>\n",
              "    <tr>\n",
              "      <th>997</th>\n",
              "      <td>Wed Nov 17 23:49:49 +0000 2021</td>\n",
              "      <td>1461119416888750083</td>\n",
              "      <td>1461119416888750083</td>\n",
              "      <td>perguruan tinggi yang tidak melaksanakan Perme...</td>\n",
              "      <td>False</td>\n",
              "      <td>[0, 280]</td>\n",
              "      <td>&lt;a href=\"http://twitter.com/download/android\" ...</td>\n",
              "      <td>NaN</td>\n",
              "      <td>None</td>\n",
              "      <td>NaN</td>\n",
              "      <td>None</td>\n",
              "      <td>None</td>\n",
              "      <td>None</td>\n",
              "      <td>None</td>\n",
              "      <td>NaN</td>\n",
              "      <td>None</td>\n",
              "      <td>False</td>\n",
              "      <td>NaN</td>\n",
              "      <td>NaN</td>\n",
              "      <td>0</td>\n",
              "      <td>1</td>\n",
              "      <td>False</td>\n",
              "      <td>False</td>\n",
              "      <td>False</td>\n",
              "      <td>in</td>\n",
              "      <td>[]</td>\n",
              "      <td>[]</td>\n",
              "      <td>[]</td>\n",
              "      <td>[]</td>\n",
              "      <td>in</td>\n",
              "      <td>recent</td>\n",
              "      <td>1448636632844832768</td>\n",
              "      <td>1448636632844832768</td>\n",
              "      <td>tamm2019</td>\n",
              "      <td>tamm20191</td>\n",
              "      <td></td>\n",
              "      <td>Tidak usah terlalu serius, yang penting seru</td>\n",
              "      <td>None</td>\n",
              "      <td>[]</td>\n",
              "      <td>False</td>\n",
              "      <td>...</td>\n",
              "      <td>NaN</td>\n",
              "      <td>NaN</td>\n",
              "      <td>NaN</td>\n",
              "      <td>NaN</td>\n",
              "      <td>NaN</td>\n",
              "      <td>NaN</td>\n",
              "      <td>NaN</td>\n",
              "      <td>NaN</td>\n",
              "      <td>NaN</td>\n",
              "      <td>NaN</td>\n",
              "      <td>NaN</td>\n",
              "      <td>NaN</td>\n",
              "      <td>NaN</td>\n",
              "      <td>NaN</td>\n",
              "      <td>NaN</td>\n",
              "      <td>NaN</td>\n",
              "      <td>NaN</td>\n",
              "      <td>NaN</td>\n",
              "      <td>NaN</td>\n",
              "      <td>NaN</td>\n",
              "      <td>NaN</td>\n",
              "      <td>NaN</td>\n",
              "      <td>NaN</td>\n",
              "      <td>[{'id': 1461119414514769920, 'id_str': '146111...</td>\n",
              "      <td>[{'id': 1461119414514769920, 'id_str': '146111...</td>\n",
              "      <td>NaN</td>\n",
              "      <td>NaN</td>\n",
              "      <td>NaN</td>\n",
              "      <td>NaN</td>\n",
              "      <td>NaN</td>\n",
              "      <td>NaN</td>\n",
              "      <td>NaN</td>\n",
              "      <td>NaN</td>\n",
              "      <td>NaN</td>\n",
              "      <td>NaN</td>\n",
              "      <td>NaN</td>\n",
              "      <td>NaN</td>\n",
              "      <td>NaN</td>\n",
              "      <td>NaN</td>\n",
              "      <td>NaN</td>\n",
              "    </tr>\n",
              "    <tr>\n",
              "      <th>998</th>\n",
              "      <td>Wed Nov 17 23:38:20 +0000 2021</td>\n",
              "      <td>1461116523745996802</td>\n",
              "      <td>1461116523745996802</td>\n",
              "      <td>Sanksi Bagi Kampus yang Mengabaikan PPKS diang...</td>\n",
              "      <td>False</td>\n",
              "      <td>[0, 274]</td>\n",
              "      <td>&lt;a href=\"http://twitter.com/download/android\" ...</td>\n",
              "      <td>NaN</td>\n",
              "      <td>None</td>\n",
              "      <td>NaN</td>\n",
              "      <td>None</td>\n",
              "      <td>None</td>\n",
              "      <td>None</td>\n",
              "      <td>None</td>\n",
              "      <td>NaN</td>\n",
              "      <td>None</td>\n",
              "      <td>False</td>\n",
              "      <td>NaN</td>\n",
              "      <td>NaN</td>\n",
              "      <td>0</td>\n",
              "      <td>1</td>\n",
              "      <td>False</td>\n",
              "      <td>False</td>\n",
              "      <td>False</td>\n",
              "      <td>in</td>\n",
              "      <td>[]</td>\n",
              "      <td>[]</td>\n",
              "      <td>[]</td>\n",
              "      <td>[]</td>\n",
              "      <td>in</td>\n",
              "      <td>recent</td>\n",
              "      <td>1202504820101267456</td>\n",
              "      <td>1202504820101267456</td>\n",
              "      <td>yulkurniawati</td>\n",
              "      <td>MaulanaFahrezi6</td>\n",
              "      <td></td>\n",
              "      <td>Tigaraksa Banten</td>\n",
              "      <td>None</td>\n",
              "      <td>[]</td>\n",
              "      <td>False</td>\n",
              "      <td>...</td>\n",
              "      <td>NaN</td>\n",
              "      <td>NaN</td>\n",
              "      <td>NaN</td>\n",
              "      <td>NaN</td>\n",
              "      <td>NaN</td>\n",
              "      <td>NaN</td>\n",
              "      <td>NaN</td>\n",
              "      <td>NaN</td>\n",
              "      <td>NaN</td>\n",
              "      <td>NaN</td>\n",
              "      <td>NaN</td>\n",
              "      <td>NaN</td>\n",
              "      <td>NaN</td>\n",
              "      <td>NaN</td>\n",
              "      <td>NaN</td>\n",
              "      <td>NaN</td>\n",
              "      <td>NaN</td>\n",
              "      <td>NaN</td>\n",
              "      <td>NaN</td>\n",
              "      <td>NaN</td>\n",
              "      <td>NaN</td>\n",
              "      <td>NaN</td>\n",
              "      <td>NaN</td>\n",
              "      <td>[{'id': 1461116520893800449, 'id_str': '146111...</td>\n",
              "      <td>[{'id': 1461116520893800449, 'id_str': '146111...</td>\n",
              "      <td>NaN</td>\n",
              "      <td>NaN</td>\n",
              "      <td>NaN</td>\n",
              "      <td>NaN</td>\n",
              "      <td>NaN</td>\n",
              "      <td>NaN</td>\n",
              "      <td>NaN</td>\n",
              "      <td>NaN</td>\n",
              "      <td>NaN</td>\n",
              "      <td>NaN</td>\n",
              "      <td>NaN</td>\n",
              "      <td>NaN</td>\n",
              "      <td>NaN</td>\n",
              "      <td>NaN</td>\n",
              "      <td>NaN</td>\n",
              "    </tr>\n",
              "    <tr>\n",
              "      <th>999</th>\n",
              "      <td>Wed Nov 17 23:37:02 +0000 2021</td>\n",
              "      <td>1461116196753866752</td>\n",
              "      <td>1461116196753866752</td>\n",
              "      <td>Ijtima Ulama MUI minta Permendikbud 30 dicabut...</td>\n",
              "      <td>False</td>\n",
              "      <td>[0, 260]</td>\n",
              "      <td>&lt;a href=\"http://twitter.com/download/android\" ...</td>\n",
              "      <td>NaN</td>\n",
              "      <td>None</td>\n",
              "      <td>NaN</td>\n",
              "      <td>None</td>\n",
              "      <td>None</td>\n",
              "      <td>None</td>\n",
              "      <td>None</td>\n",
              "      <td>NaN</td>\n",
              "      <td>None</td>\n",
              "      <td>False</td>\n",
              "      <td>NaN</td>\n",
              "      <td>NaN</td>\n",
              "      <td>44</td>\n",
              "      <td>66</td>\n",
              "      <td>False</td>\n",
              "      <td>False</td>\n",
              "      <td>False</td>\n",
              "      <td>in</td>\n",
              "      <td>[{'text': 'MUIjagaMoralBangsa', 'indices': [19...</td>\n",
              "      <td>[]</td>\n",
              "      <td>[]</td>\n",
              "      <td>[]</td>\n",
              "      <td>in</td>\n",
              "      <td>recent</td>\n",
              "      <td>1453999488889081856</td>\n",
              "      <td>1453999488889081856</td>\n",
              "      <td>ArdinaTya🥀</td>\n",
              "      <td>Dindin30_</td>\n",
              "      <td></td>\n",
              "      <td>it's my life ❤</td>\n",
              "      <td>None</td>\n",
              "      <td>[]</td>\n",
              "      <td>False</td>\n",
              "      <td>...</td>\n",
              "      <td>NaN</td>\n",
              "      <td>NaN</td>\n",
              "      <td>NaN</td>\n",
              "      <td>NaN</td>\n",
              "      <td>NaN</td>\n",
              "      <td>NaN</td>\n",
              "      <td>NaN</td>\n",
              "      <td>NaN</td>\n",
              "      <td>NaN</td>\n",
              "      <td>NaN</td>\n",
              "      <td>NaN</td>\n",
              "      <td>NaN</td>\n",
              "      <td>NaN</td>\n",
              "      <td>NaN</td>\n",
              "      <td>NaN</td>\n",
              "      <td>NaN</td>\n",
              "      <td>NaN</td>\n",
              "      <td>NaN</td>\n",
              "      <td>NaN</td>\n",
              "      <td>NaN</td>\n",
              "      <td>NaN</td>\n",
              "      <td>NaN</td>\n",
              "      <td>NaN</td>\n",
              "      <td>[{'id': 1461116193541033986, 'id_str': '146111...</td>\n",
              "      <td>[{'id': 1461116193541033986, 'id_str': '146111...</td>\n",
              "      <td>NaN</td>\n",
              "      <td>NaN</td>\n",
              "      <td>NaN</td>\n",
              "      <td>NaN</td>\n",
              "      <td>NaN</td>\n",
              "      <td>NaN</td>\n",
              "      <td>NaN</td>\n",
              "      <td>NaN</td>\n",
              "      <td>NaN</td>\n",
              "      <td>NaN</td>\n",
              "      <td>NaN</td>\n",
              "      <td>NaN</td>\n",
              "      <td>NaN</td>\n",
              "      <td>NaN</td>\n",
              "      <td>NaN</td>\n",
              "    </tr>\n",
              "  </tbody>\n",
              "</table>\n",
              "<p>5 rows × 164 columns</p>\n",
              "</div>"
            ],
            "text/plain": [
              "                         created_at  ...  quoted_status.quoted_status_id_str\n",
              "995  Thu Nov 18 00:05:19 +0000 2021  ...                                 NaN\n",
              "996  Wed Nov 17 23:51:14 +0000 2021  ...                                 NaN\n",
              "997  Wed Nov 17 23:49:49 +0000 2021  ...                                 NaN\n",
              "998  Wed Nov 17 23:38:20 +0000 2021  ...                                 NaN\n",
              "999  Wed Nov 17 23:37:02 +0000 2021  ...                                 NaN\n",
              "\n",
              "[5 rows x 164 columns]"
            ]
          },
          "metadata": {},
          "execution_count": 20
        }
      ]
    },
    {
      "cell_type": "code",
      "metadata": {
        "colab": {
          "base_uri": "https://localhost:8080/",
          "height": 203
        },
        "id": "OjiWqF2rKQJe",
        "outputId": "358297be-4905-4e83-841c-0da8b1312713"
      },
      "source": [
        "#mengganti nama column full_text menjadi Twets lalu menampilkan 5 data teratas\n",
        "tweet_df = df[['full_text']]\n",
        "tweet_df = tweet_df.rename(columns={'full_text' : 'Tweets'})\n",
        "tweet_df.head()"
      ],
      "id": "OjiWqF2rKQJe",
      "execution_count": null,
      "outputs": [
        {
          "output_type": "execute_result",
          "data": {
            "text/html": [
              "<div>\n",
              "<style scoped>\n",
              "    .dataframe tbody tr th:only-of-type {\n",
              "        vertical-align: middle;\n",
              "    }\n",
              "\n",
              "    .dataframe tbody tr th {\n",
              "        vertical-align: top;\n",
              "    }\n",
              "\n",
              "    .dataframe thead th {\n",
              "        text-align: right;\n",
              "    }\n",
              "</style>\n",
              "<table border=\"1\" class=\"dataframe\">\n",
              "  <thead>\n",
              "    <tr style=\"text-align: right;\">\n",
              "      <th></th>\n",
              "      <th>Tweets</th>\n",
              "    </tr>\n",
              "  </thead>\n",
              "  <tbody>\n",
              "    <tr>\n",
              "      <th>0</th>\n",
              "      <td>Permendikbud 30 adalah sebuah ikhtiar di tenga...</td>\n",
              "    </tr>\n",
              "    <tr>\n",
              "      <th>1</th>\n",
              "      <td>Permendikbud-Ristek 30/2021, seolah-olah terse...</td>\n",
              "    </tr>\n",
              "    <tr>\n",
              "      <th>2</th>\n",
              "      <td>Permendikbudristek No.30 Tahun 2021 tentang Pe...</td>\n",
              "    </tr>\n",
              "    <tr>\n",
              "      <th>3</th>\n",
              "      <td>Prof. Panut Mulyono menyampaikan bahwa kehadir...</td>\n",
              "    </tr>\n",
              "    <tr>\n",
              "      <th>4</th>\n",
              "      <td>Dalam Permendikbudristek No.30 Tahun 2021 tent...</td>\n",
              "    </tr>\n",
              "  </tbody>\n",
              "</table>\n",
              "</div>"
            ],
            "text/plain": [
              "                                              Tweets\n",
              "0  Permendikbud 30 adalah sebuah ikhtiar di tenga...\n",
              "1  Permendikbud-Ristek 30/2021, seolah-olah terse...\n",
              "2  Permendikbudristek No.30 Tahun 2021 tentang Pe...\n",
              "3  Prof. Panut Mulyono menyampaikan bahwa kehadir...\n",
              "4  Dalam Permendikbudristek No.30 Tahun 2021 tent..."
            ]
          },
          "metadata": {},
          "execution_count": 21
        }
      ]
    },
    {
      "cell_type": "markdown",
      "metadata": {
        "id": "OGZb2uMVXvIz"
      },
      "source": [
        "#Membersihkan data"
      ],
      "id": "OGZb2uMVXvIz"
    },
    {
      "cell_type": "markdown",
      "metadata": {
        "id": "pPg1TpeHXzK1"
      },
      "source": [
        "Terdapat beberapa kata dan simbol yang tidak dibutuhkan dalam analisis sentimental, maka untuk tweet yang mengandung kata dan simbol tersebut harus dihilangkan. Misalnya, menghilangkan simbol @ untuk nama pengguna Twitter, simbol # untuk tagar topik yang dibicarakan dan https untuk link berita online."
      ],
      "id": "pPg1TpeHXzK1"
    },
    {
      "cell_type": "code",
      "metadata": {
        "id": "Fxf06zEKCds4"
      },
      "source": [
        "#Clean text\n",
        "\n",
        "#Membuat fungsi membersihkan tweet berupa kata atau simbol yang tidak dibutuhkan \n",
        "def cleanTxt(text) :\n",
        "  text = re.sub(r'@[A-Za-z0-9_]+', '', text)\n",
        "  text = re.sub(r'(@[A-Za-z0-9]+)|([^0-9A-Za-z \\t])|(\\w+:\\/\\/\\S+)', '', text)\n",
        "  text = re.sub(r'#', '', text)\n",
        "  text = re.sub(r'https?:\\/\\/\\S+', '', text)\n",
        "  text = re.sub(r'^\\s+', '', text)\n",
        "  return text"
      ],
      "id": "Fxf06zEKCds4",
      "execution_count": null,
      "outputs": []
    },
    {
      "cell_type": "code",
      "metadata": {
        "colab": {
          "base_uri": "https://localhost:8080/",
          "height": 38
        },
        "id": "gcpxyxCghdyy",
        "outputId": "db1bd0a7-d7c5-46ac-fcb0-76f5ae25192e"
      },
      "source": [
        "gg = 'kira-kira @__fnr_999 - ggg @fr_77 '\n",
        "#re.sub(r'(@[A-Za-z0-9_]+)|(\\w+:\\/\\/\\S+)', '', gg)\n",
        "#re.sub(r'@[A-Za-z0-9_]+', '', gg)\n",
        "re.sub(r'(@[A-Za-z0-9]+)|([^0-9A-Za-z \\t])|(\\w+:\\/\\/\\S+)', '', gg)"
      ],
      "id": "gcpxyxCghdyy",
      "execution_count": null,
      "outputs": [
        {
          "output_type": "execute_result",
          "data": {
            "application/vnd.google.colaboratory.intrinsic+json": {
              "type": "string"
            },
            "text/plain": [
              "'kirakira fnr999  ggg 77'"
            ]
          },
          "metadata": {},
          "execution_count": 17
        }
      ]
    },
    {
      "cell_type": "code",
      "metadata": {
        "colab": {
          "base_uri": "https://localhost:8080/",
          "height": 417
        },
        "id": "660egP2HR01M",
        "outputId": "4c9d3361-98fb-4550-b4d7-b4f34324a4c9"
      },
      "source": [
        "#menerapkan fungsi cleanTxt pada column Tweets\n",
        "tweet_df['Tweets'] = tweet_df['Tweets'].apply(cleanTxt)\n",
        "tweet_df"
      ],
      "id": "660egP2HR01M",
      "execution_count": null,
      "outputs": [
        {
          "output_type": "execute_result",
          "data": {
            "text/html": [
              "<div>\n",
              "<style scoped>\n",
              "    .dataframe tbody tr th:only-of-type {\n",
              "        vertical-align: middle;\n",
              "    }\n",
              "\n",
              "    .dataframe tbody tr th {\n",
              "        vertical-align: top;\n",
              "    }\n",
              "\n",
              "    .dataframe thead th {\n",
              "        text-align: right;\n",
              "    }\n",
              "</style>\n",
              "<table border=\"1\" class=\"dataframe\">\n",
              "  <thead>\n",
              "    <tr style=\"text-align: right;\">\n",
              "      <th></th>\n",
              "      <th>Tweets</th>\n",
              "    </tr>\n",
              "  </thead>\n",
              "  <tbody>\n",
              "    <tr>\n",
              "      <th>0</th>\n",
              "      <td>Permendikbud 30 adalah sebuah ikhtiar di tenga...</td>\n",
              "    </tr>\n",
              "    <tr>\n",
              "      <th>1</th>\n",
              "      <td>PermendikbudRistek 302021 seolaholah terselina...</td>\n",
              "    </tr>\n",
              "    <tr>\n",
              "      <th>2</th>\n",
              "      <td>Permendikbudristek No30 Tahun 2021 tentang Pen...</td>\n",
              "    </tr>\n",
              "    <tr>\n",
              "      <th>3</th>\n",
              "      <td>Prof Panut Mulyono menyampaikan bahwa kehadira...</td>\n",
              "    </tr>\n",
              "    <tr>\n",
              "      <th>4</th>\n",
              "      <td>Dalam Permendikbudristek No30 Tahun 2021 tenta...</td>\n",
              "    </tr>\n",
              "    <tr>\n",
              "      <th>...</th>\n",
              "      <td>...</td>\n",
              "    </tr>\n",
              "    <tr>\n",
              "      <th>995</th>\n",
              "      <td>Tolak permendikbud PPKS</td>\n",
              "    </tr>\n",
              "    <tr>\n",
              "      <th>996</th>\n",
              "      <td>Bagi  perguruan tinggi yang tidak melaksanakan...</td>\n",
              "    </tr>\n",
              "    <tr>\n",
              "      <th>997</th>\n",
              "      <td>perguruan tinggi yang tidak melaksanakan Perme...</td>\n",
              "    </tr>\n",
              "    <tr>\n",
              "      <th>998</th>\n",
              "      <td>Sanksi Bagi Kampus yang Mengabaikan PPKS diang...</td>\n",
              "    </tr>\n",
              "    <tr>\n",
              "      <th>999</th>\n",
              "      <td>Ijtima Ulama MUI minta Permendikbud 30 dicabut...</td>\n",
              "    </tr>\n",
              "  </tbody>\n",
              "</table>\n",
              "<p>1000 rows × 1 columns</p>\n",
              "</div>"
            ],
            "text/plain": [
              "                                                Tweets\n",
              "0    Permendikbud 30 adalah sebuah ikhtiar di tenga...\n",
              "1    PermendikbudRistek 302021 seolaholah terselina...\n",
              "2    Permendikbudristek No30 Tahun 2021 tentang Pen...\n",
              "3    Prof Panut Mulyono menyampaikan bahwa kehadira...\n",
              "4    Dalam Permendikbudristek No30 Tahun 2021 tenta...\n",
              "..                                                 ...\n",
              "995                            Tolak permendikbud PPKS\n",
              "996  Bagi  perguruan tinggi yang tidak melaksanakan...\n",
              "997  perguruan tinggi yang tidak melaksanakan Perme...\n",
              "998  Sanksi Bagi Kampus yang Mengabaikan PPKS diang...\n",
              "999  Ijtima Ulama MUI minta Permendikbud 30 dicabut...\n",
              "\n",
              "[1000 rows x 1 columns]"
            ]
          },
          "metadata": {},
          "execution_count": 23
        }
      ]
    },
    {
      "cell_type": "code",
      "metadata": {
        "colab": {
          "base_uri": "https://localhost:8080/"
        },
        "id": "UqNv-6ekXYnk",
        "outputId": "7998bbd7-9d3e-424d-e6cd-d4d778312536"
      },
      "source": [
        "#menampilkan 10 Tweets teratas\n",
        "for tweet in tweet_df['Tweets'][0:10]:\n",
        "  print(tweet)\n",
        "  print('')"
      ],
      "id": "UqNv-6ekXYnk",
      "execution_count": null,
      "outputs": [
        {
          "output_type": "stream",
          "name": "stdout",
          "text": [
            "Permendikbud 30 adalah sebuah ikhtiar di tengah kedaruratan Kondisi rill begini Gada hubungan sama sekali dg seks bebas dan segala klaim sekitarnya Kak  lekas pulih dan terima kasih youre doing the right thing  \n",
            "\n",
            "PermendikbudRistek 302021 seolaholah terselinap ada neraka yang sudah dipesan \n",
            "\n",
            "Permendikbudristek No30 Tahun 2021 tentang Pencegahan dan Penanganan Kekerasan Seksual yang terjadi di lingkungan Pendidikan Tinggi ini dapat kita lihat ada dua potret buram dengan munculnya keberadaan Permendikbud ini Simak selengkapnya di video mmc \n",
            "\n",
            "Prof Panut Mulyono menyampaikan bahwa kehadiran PermendikbudRistek No 30 tahun 2021 adalah bentuk kepastian hukum yang diberikan oleh pemerintah sebagai bentuk keresahan atas meningkatnya kasus kekerasan seksual di perguruan tinggi FRI permendikbud30 \n",
            "\n",
            "Dalam Permendikbudristek No30 Tahun 2021 tentang Pencegahan dan Penanganan Kekerasan Seksual yang terjadi di lingkungan Pendidikan Tinggi ini dapat kita lihat ada dua potret buram dengan munculnya keberadaan Permendikbud ini Simak selengkapnya di channel MMC \n",
            "\n",
            "Kembang Gula Beracun ala Permendikbud Ristek PPKSOleh Riani KurniawatiSahabat TintaSiyasi\n",
            "\n",
            "Halo Kak  terima kasih telah berani bersuara yaa Semoga semakin banyak pihak yang berani menyuarakan dukungan terhadap Permendikbud No 30 agar korban lekas mendapatkan pemulihan dan melanjutkan pendidikan sebagaimana mestinya\n",
            "\n",
            "Dalam Permendikbudristek No30 Tahun 2021 tentang Pencegahan dan Penanganan Kekerasan Seksual yang terjadi di lingkungan Pendidikan Tinggi ini dapat kita lihat ada dua potret buram dengan munculnya keberadaan Permendikbud ini Simak selengkapnya di channel MMC \n",
            "\n",
            "Makin terlihat urgensi Permendikbud yang kemarin ramai itu \n",
            "\n",
            "Sebenernya sebelum permendikbud ini rilis udah banyak sih hubungan seks bebas dengan persetujuan udah jadi rahasia umum Jadi mau ada dan ngga Permendikbud ini ya bakal tetep ada Bedanya Permendikbud ini nanti ngatur kalo ga ada persetujuan dari korban itu masuk pelecehan\n",
            "\n"
          ]
        }
      ]
    },
    {
      "cell_type": "markdown",
      "metadata": {
        "id": "TIm_ZmKaa28e"
      },
      "source": [
        "#Melihat tanggal dibuatnya 10 tweet teratas"
      ],
      "id": "TIm_ZmKaa28e"
    },
    {
      "cell_type": "code",
      "metadata": {
        "colab": {
          "base_uri": "https://localhost:8080/"
        },
        "id": "dTrZAK4bTZCY",
        "outputId": "bf71f556-0759-431a-b025-bfe181b8727b"
      },
      "source": [
        "# menampilkan tanggal dibuatnya 10 Tweets teratas\n",
        "df['created_at'].tail(10)"
      ],
      "id": "dTrZAK4bTZCY",
      "execution_count": null,
      "outputs": [
        {
          "output_type": "execute_result",
          "data": {
            "text/plain": [
              "990    Thu Nov 18 00:13:58 +0000 2021\n",
              "991    Thu Nov 18 00:13:15 +0000 2021\n",
              "992    Thu Nov 18 00:10:57 +0000 2021\n",
              "993    Thu Nov 18 00:08:10 +0000 2021\n",
              "994    Thu Nov 18 00:07:05 +0000 2021\n",
              "995    Thu Nov 18 00:05:19 +0000 2021\n",
              "996    Wed Nov 17 23:51:14 +0000 2021\n",
              "997    Wed Nov 17 23:49:49 +0000 2021\n",
              "998    Wed Nov 17 23:38:20 +0000 2021\n",
              "999    Wed Nov 17 23:37:02 +0000 2021\n",
              "Name: created_at, dtype: object"
            ]
          },
          "metadata": {},
          "execution_count": 27
        }
      ]
    },
    {
      "cell_type": "markdown",
      "metadata": {
        "id": "tKbAPFL_bAzB"
      },
      "source": [
        "#Melakukan import data dari 1000 tweet ke dalam file csv"
      ],
      "id": "tKbAPFL_bAzB"
    },
    {
      "cell_type": "code",
      "metadata": {
        "colab": {
          "base_uri": "https://localhost:8080/"
        },
        "id": "cIq7KIwCBJCE",
        "outputId": "9d9b8a0c-db88-44c2-f9e3-a98f4f9d6f46"
      },
      "source": [
        "#import file data frame ke csv\n",
        "from google.colab import drive\n",
        "drive.mount('drive')"
      ],
      "id": "cIq7KIwCBJCE",
      "execution_count": null,
      "outputs": [
        {
          "output_type": "stream",
          "name": "stdout",
          "text": [
            "Drive already mounted at drive; to attempt to forcibly remount, call drive.mount(\"drive\", force_remount=True).\n"
          ]
        }
      ]
    },
    {
      "cell_type": "code",
      "metadata": {
        "id": "_O4mmX8JXVk8"
      },
      "source": [
        "#menyimpan data hasil import ke google drive\n",
        "tweet_df.to_csv('tweet_ttg_permendikbud.csv', index=False)\n",
        "!cp tweet_ttg_permendikbud.csv \"drive/My Drive/Colab Notebooks/Tugas besar/\""
      ],
      "id": "_O4mmX8JXVk8",
      "execution_count": null,
      "outputs": []
    }
  ]
}