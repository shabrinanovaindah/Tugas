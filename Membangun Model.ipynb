{
 "cells": [
  {
   "cell_type": "markdown",
   "id": "17bf5247",
   "metadata": {
    "id": "17bf5247"
   },
   "source": [
    "# Analisis Setimen pada Permendikbud dengan menggunakan RNN (LSTM)"
   ]
  },
  {
   "cell_type": "markdown",
   "id": "afxaX5mmKwpf",
   "metadata": {
    "id": "afxaX5mmKwpf"
   },
   "source": [
    "Nama Peserta:\n",
    "- Ferdy Nanda Riza\n",
    "- Shabrina Novaindah Dwiyamti\n",
    "- Nalurisa Izma Mardiana\n",
    "\n",
    "Universitas Host: Universitas Telkom\n",
    "\n",
    "Kelas: TelU-04\n",
    "\n",
    "Kelompok: 3\n"
   ]
  },
  {
   "cell_type": "markdown",
   "id": "4ca471fa",
   "metadata": {
    "id": "4ca471fa"
   },
   "source": [
    "### Import dataset yang diperlukan"
   ]
  },
  {
   "cell_type": "code",
   "execution_count": null,
   "id": "9d8d9879",
   "metadata": {
    "id": "9d8d9879"
   },
   "outputs": [],
   "source": [
    "import pandas as pd"
   ]
  },
  {
   "cell_type": "code",
   "execution_count": null,
   "id": "8615e682",
   "metadata": {
    "id": "8615e682"
   },
   "outputs": [],
   "source": [
    "# Import data\n",
    "twit=pd.read_csv('tweets.csv')\n",
    "positive=pd.read_csv('kamus/positive_keyword.txt',header=None)\n",
    "positive.columns=['words']\n",
    "negative=pd.read_csv('kamus/negative_keyword.txt',header=None)\n",
    "negative.columns=['words']\n",
    "stop_words=pd.read_csv('kamus/stopword.txt',header=None)\n",
    "stop_words.columns=['words']"
   ]
  },
  {
   "cell_type": "markdown",
   "id": "755bbdfc",
   "metadata": {
    "id": "755bbdfc"
   },
   "source": [
    "### Import library yang diperlukan"
   ]
  },
  {
   "cell_type": "code",
   "execution_count": null,
   "id": "96630803",
   "metadata": {
    "id": "96630803"
   },
   "outputs": [],
   "source": [
    "import re\n",
    "import nltk\n",
    "from nltk.corpus import stopwords\n",
    "from nltk.stem.porter import *\n",
    "stemmer = PorterStemmer()"
   ]
  },
  {
   "cell_type": "markdown",
   "id": "41a6910e",
   "metadata": {
    "id": "41a6910e"
   },
   "source": [
    "#### Preproses data dengan memecah kalimat perkata, menghapus stopword, dan menghapus angka pada teks"
   ]
  },
  {
   "cell_type": "code",
   "execution_count": null,
   "id": "87eca0b4",
   "metadata": {
    "id": "87eca0b4"
   },
   "outputs": [],
   "source": [
    "#preprocess function \n",
    "stem_words=lambda x: stemmer.stem(x)\n",
    "break_into_words = lambda x : re.findall(\"[a-zA-Z0-9]+\", x)\n",
    "skip_stop_words = lambda x: [w for w in x if w not in list(stop_words['words'])]\n",
    "skip_numeric = lambda x : [w for w in x if not w.isnumeric()]"
   ]
  },
  {
   "cell_type": "code",
   "execution_count": null,
   "id": "6b519154",
   "metadata": {
    "id": "6b519154"
   },
   "outputs": [],
   "source": [
    "#apply pre-processing steps\n",
    "processed_text=twit['Tweets'].map(break_into_words)\\\n",
    "        .map(skip_stop_words)\\\n",
    "        .map(skip_numeric)"
   ]
  },
  {
   "cell_type": "markdown",
   "id": "acc2c1d1",
   "metadata": {
    "id": "acc2c1d1"
   },
   "source": [
    "#### Menambahkan hasil preproses ke dalam dataframe"
   ]
  },
  {
   "cell_type": "code",
   "execution_count": null,
   "id": "da06e3bc",
   "metadata": {
    "id": "da06e3bc"
   },
   "outputs": [],
   "source": [
    "twit['processed']=processed_text"
   ]
  },
  {
   "cell_type": "markdown",
   "id": "e0006c54",
   "metadata": {
    "id": "e0006c54"
   },
   "source": [
    "### Mengklasifikasi tweet berdasarkan jumlah kata positif atau negatif"
   ]
  },
  {
   "cell_type": "code",
   "execution_count": null,
   "id": "c93da583",
   "metadata": {
    "id": "c93da583"
   },
   "outputs": [],
   "source": [
    "#count number of positive words\n",
    "positive_words_count=processed_text.map(lambda x: len([w for w in x if w in list(positive['words'])]))\n",
    "#count number of negative words\n",
    "negative_words_count=processed_text.map(lambda x: len([w for w in x if w in list(negative['words'])]))\n",
    "twit['positive']=positive_words_count\n",
    "twit['negative']=negative_words_count"
   ]
  },
  {
   "cell_type": "code",
   "execution_count": null,
   "id": "8c4468f1",
   "metadata": {
    "id": "8c4468f1"
   },
   "outputs": [],
   "source": [
    "twit['sentiment_score_1']=twit['positive']-twit['negative']\n"
   ]
  },
  {
   "cell_type": "code",
   "execution_count": null,
   "id": "ecc43669",
   "metadata": {
    "id": "ecc43669",
    "outputId": "1143cc5d-c3bb-401e-f568-d855c24190dd"
   },
   "outputs": [
    {
     "data": {
      "text/html": [
       "<div>\n",
       "<style scoped>\n",
       "    .dataframe tbody tr th:only-of-type {\n",
       "        vertical-align: middle;\n",
       "    }\n",
       "\n",
       "    .dataframe tbody tr th {\n",
       "        vertical-align: top;\n",
       "    }\n",
       "\n",
       "    .dataframe thead th {\n",
       "        text-align: right;\n",
       "    }\n",
       "</style>\n",
       "<table border=\"1\" class=\"dataframe\">\n",
       "  <thead>\n",
       "    <tr style=\"text-align: right;\">\n",
       "      <th></th>\n",
       "      <th>Tweets</th>\n",
       "      <th>processed</th>\n",
       "      <th>positive</th>\n",
       "      <th>negative</th>\n",
       "      <th>sentiment_score_1</th>\n",
       "    </tr>\n",
       "  </thead>\n",
       "  <tbody>\n",
       "    <tr>\n",
       "      <th>0</th>\n",
       "      <td>bukan nya konteksnya kekerasan seksual yah klo...</td>\n",
       "      <td>[konteksnya, kekerasan, seksual, yah, kekerasa...</td>\n",
       "      <td>0</td>\n",
       "      <td>3</td>\n",
       "      <td>-3</td>\n",
       "    </tr>\n",
       "    <tr>\n",
       "      <th>1</th>\n",
       "      <td>tagarnya aja tolak permendikbud ada gt mereka ...</td>\n",
       "      <td>[tagarnya, permendikbud, gt, naikan, tagar, re...</td>\n",
       "      <td>0</td>\n",
       "      <td>0</td>\n",
       "      <td>0</td>\n",
       "    </tr>\n",
       "    <tr>\n",
       "      <th>2</th>\n",
       "      <td>tolak permendikbud katanya</td>\n",
       "      <td>[permendikbud]</td>\n",
       "      <td>0</td>\n",
       "      <td>0</td>\n",
       "      <td>0</td>\n",
       "    </tr>\n",
       "    <tr>\n",
       "      <th>3</th>\n",
       "      <td>berikut alasan disahkannya permendikbud penang...</td>\n",
       "      <td>[disahkannya, permendikbud, penanganan, kekera...</td>\n",
       "      <td>0</td>\n",
       "      <td>1</td>\n",
       "      <td>-1</td>\n",
       "    </tr>\n",
       "    <tr>\n",
       "      <th>4</th>\n",
       "      <td>kpi somasi nadiem terkait permendikbud pencega...</td>\n",
       "      <td>[kpi, somasi, nadiem, permendikbud, pencegahan...</td>\n",
       "      <td>0</td>\n",
       "      <td>2</td>\n",
       "      <td>-2</td>\n",
       "    </tr>\n",
       "  </tbody>\n",
       "</table>\n",
       "</div>"
      ],
      "text/plain": [
       "                                              Tweets  \\\n",
       "0  bukan nya konteksnya kekerasan seksual yah klo...   \n",
       "1  tagarnya aja tolak permendikbud ada gt mereka ...   \n",
       "2                         tolak permendikbud katanya   \n",
       "3  berikut alasan disahkannya permendikbud penang...   \n",
       "4  kpi somasi nadiem terkait permendikbud pencega...   \n",
       "\n",
       "                                           processed  positive  negative  \\\n",
       "0  [konteksnya, kekerasan, seksual, yah, kekerasa...         0         3   \n",
       "1  [tagarnya, permendikbud, gt, naikan, tagar, re...         0         0   \n",
       "2                                     [permendikbud]         0         0   \n",
       "3  [disahkannya, permendikbud, penanganan, kekera...         0         1   \n",
       "4  [kpi, somasi, nadiem, permendikbud, pencegahan...         0         2   \n",
       "\n",
       "   sentiment_score_1  \n",
       "0                 -3  \n",
       "1                  0  \n",
       "2                  0  \n",
       "3                 -1  \n",
       "4                 -2  "
      ]
     },
     "execution_count": 9,
     "metadata": {},
     "output_type": "execute_result"
    }
   ],
   "source": [
    "twit.head()"
   ]
  },
  {
   "cell_type": "code",
   "execution_count": null,
   "id": "d5f7a57b",
   "metadata": {
    "id": "d5f7a57b"
   },
   "outputs": [],
   "source": [
    "import numpy as np"
   ]
  },
  {
   "cell_type": "code",
   "execution_count": null,
   "id": "9b7c3dde",
   "metadata": {
    "id": "9b7c3dde",
    "outputId": "765902b4-32ea-4d1e-98e4-19c33776d00a"
   },
   "outputs": [
    {
     "data": {
      "text/html": [
       "<div>\n",
       "<style scoped>\n",
       "    .dataframe tbody tr th:only-of-type {\n",
       "        vertical-align: middle;\n",
       "    }\n",
       "\n",
       "    .dataframe tbody tr th {\n",
       "        vertical-align: top;\n",
       "    }\n",
       "\n",
       "    .dataframe thead th {\n",
       "        text-align: right;\n",
       "    }\n",
       "</style>\n",
       "<table border=\"1\" class=\"dataframe\">\n",
       "  <thead>\n",
       "    <tr style=\"text-align: right;\">\n",
       "      <th></th>\n",
       "      <th>Tweets</th>\n",
       "      <th>processed</th>\n",
       "      <th>positive</th>\n",
       "      <th>negative</th>\n",
       "      <th>sentiment_score_1</th>\n",
       "      <th>kategori</th>\n",
       "    </tr>\n",
       "  </thead>\n",
       "  <tbody>\n",
       "    <tr>\n",
       "      <th>0</th>\n",
       "      <td>bukan nya konteksnya kekerasan seksual yah klo...</td>\n",
       "      <td>[konteksnya, kekerasan, seksual, yah, kekerasa...</td>\n",
       "      <td>0</td>\n",
       "      <td>3</td>\n",
       "      <td>-3</td>\n",
       "      <td>negatif</td>\n",
       "    </tr>\n",
       "    <tr>\n",
       "      <th>1</th>\n",
       "      <td>tagarnya aja tolak permendikbud ada gt mereka ...</td>\n",
       "      <td>[tagarnya, permendikbud, gt, naikan, tagar, re...</td>\n",
       "      <td>0</td>\n",
       "      <td>0</td>\n",
       "      <td>0</td>\n",
       "      <td>netral</td>\n",
       "    </tr>\n",
       "    <tr>\n",
       "      <th>2</th>\n",
       "      <td>tolak permendikbud katanya</td>\n",
       "      <td>[permendikbud]</td>\n",
       "      <td>0</td>\n",
       "      <td>0</td>\n",
       "      <td>0</td>\n",
       "      <td>netral</td>\n",
       "    </tr>\n",
       "    <tr>\n",
       "      <th>3</th>\n",
       "      <td>berikut alasan disahkannya permendikbud penang...</td>\n",
       "      <td>[disahkannya, permendikbud, penanganan, kekera...</td>\n",
       "      <td>0</td>\n",
       "      <td>1</td>\n",
       "      <td>-1</td>\n",
       "      <td>negatif</td>\n",
       "    </tr>\n",
       "    <tr>\n",
       "      <th>4</th>\n",
       "      <td>kpi somasi nadiem terkait permendikbud pencega...</td>\n",
       "      <td>[kpi, somasi, nadiem, permendikbud, pencegahan...</td>\n",
       "      <td>0</td>\n",
       "      <td>2</td>\n",
       "      <td>-2</td>\n",
       "      <td>negatif</td>\n",
       "    </tr>\n",
       "  </tbody>\n",
       "</table>\n",
       "</div>"
      ],
      "text/plain": [
       "                                              Tweets  \\\n",
       "0  bukan nya konteksnya kekerasan seksual yah klo...   \n",
       "1  tagarnya aja tolak permendikbud ada gt mereka ...   \n",
       "2                         tolak permendikbud katanya   \n",
       "3  berikut alasan disahkannya permendikbud penang...   \n",
       "4  kpi somasi nadiem terkait permendikbud pencega...   \n",
       "\n",
       "                                           processed  positive  negative  \\\n",
       "0  [konteksnya, kekerasan, seksual, yah, kekerasa...         0         3   \n",
       "1  [tagarnya, permendikbud, gt, naikan, tagar, re...         0         0   \n",
       "2                                     [permendikbud]         0         0   \n",
       "3  [disahkannya, permendikbud, penanganan, kekera...         0         1   \n",
       "4  [kpi, somasi, nadiem, permendikbud, pencegahan...         0         2   \n",
       "\n",
       "   sentiment_score_1 kategori  \n",
       "0                 -3  negatif  \n",
       "1                  0   netral  \n",
       "2                  0   netral  \n",
       "3                 -1  negatif  \n",
       "4                 -2  negatif  "
      ]
     },
     "execution_count": 11,
     "metadata": {},
     "output_type": "execute_result"
    }
   ],
   "source": [
    "bins = [-np.inf, -1, 1, np.inf]\n",
    "names = ['negatif', 'netral', 'positif']\n",
    "\n",
    "twit['kategori'] = pd.cut(twit['sentiment_score_1'], bins, labels=names)\n",
    "twit.head()"
   ]
  },
  {
   "cell_type": "code",
   "execution_count": null,
   "id": "d61b5778",
   "metadata": {
    "id": "d61b5778",
    "outputId": "16974055-d914-4274-f0f9-f681b10017a0"
   },
   "outputs": [
    {
     "data": {
      "text/html": [
       "<div>\n",
       "<style scoped>\n",
       "    .dataframe tbody tr th:only-of-type {\n",
       "        vertical-align: middle;\n",
       "    }\n",
       "\n",
       "    .dataframe tbody tr th {\n",
       "        vertical-align: top;\n",
       "    }\n",
       "\n",
       "    .dataframe thead th {\n",
       "        text-align: right;\n",
       "    }\n",
       "</style>\n",
       "<table border=\"1\" class=\"dataframe\">\n",
       "  <thead>\n",
       "    <tr style=\"text-align: right;\">\n",
       "      <th></th>\n",
       "      <th>Tweets</th>\n",
       "      <th>processed</th>\n",
       "      <th>positive</th>\n",
       "      <th>negative</th>\n",
       "      <th>sentiment_score_1</th>\n",
       "      <th>kategori</th>\n",
       "    </tr>\n",
       "  </thead>\n",
       "  <tbody>\n",
       "    <tr>\n",
       "      <th>379</th>\n",
       "      <td>la ini kita emang lg ngomingin permendikbud tt...</td>\n",
       "      <td>[la, emang, ngomingin, permendikbud, kekerasan...</td>\n",
       "      <td>0</td>\n",
       "      <td>8</td>\n",
       "      <td>-8</td>\n",
       "      <td>negatif</td>\n",
       "    </tr>\n",
       "    <tr>\n",
       "      <th>2751</th>\n",
       "      <td>makian khas yg digunakan perundung  penentang ...</td>\n",
       "      <td>[makian, perundung, penentang, permendikbud, a...</td>\n",
       "      <td>0</td>\n",
       "      <td>8</td>\n",
       "      <td>-8</td>\n",
       "      <td>negatif</td>\n",
       "    </tr>\n",
       "    <tr>\n",
       "      <th>3248</th>\n",
       "      <td>tuh arti korban dalam kbbidalam konteks permen...</td>\n",
       "      <td>[korban, kbbidalam, konteks, permendikbud, dim...</td>\n",
       "      <td>0</td>\n",
       "      <td>8</td>\n",
       "      <td>-8</td>\n",
       "      <td>negatif</td>\n",
       "    </tr>\n",
       "    <tr>\n",
       "      <th>1336</th>\n",
       "      <td>demi menutupi kasus isu bisnis pcr isu permend...</td>\n",
       "      <td>[menutupi, kasus, isu, pcr, isu, permendikbud,...</td>\n",
       "      <td>0</td>\n",
       "      <td>8</td>\n",
       "      <td>-8</td>\n",
       "      <td>negatif</td>\n",
       "    </tr>\n",
       "    <tr>\n",
       "      <th>928</th>\n",
       "      <td>isu bisnis pcr isu permendikbud no  isu korups...</td>\n",
       "      <td>[isu, pcr, isu, permendikbud, isu, korupsi, is...</td>\n",
       "      <td>0</td>\n",
       "      <td>7</td>\n",
       "      <td>-7</td>\n",
       "      <td>negatif</td>\n",
       "    </tr>\n",
       "    <tr>\n",
       "      <th>...</th>\n",
       "      <td>...</td>\n",
       "      <td>...</td>\n",
       "      <td>...</td>\n",
       "      <td>...</td>\n",
       "      <td>...</td>\n",
       "      <td>...</td>\n",
       "    </tr>\n",
       "    <tr>\n",
       "      <th>2153</th>\n",
       "      <td>bagi negara demokrasi terbesar ketiga di dunia...</td>\n",
       "      <td>[negara, demokrasi, ketiga, dunia, indonesia, ...</td>\n",
       "      <td>3</td>\n",
       "      <td>0</td>\n",
       "      <td>3</td>\n",
       "      <td>positif</td>\n",
       "    </tr>\n",
       "    <tr>\n",
       "      <th>3665</th>\n",
       "      <td>alhamdulillah semoga dengan adanya niat baik d...</td>\n",
       "      <td>[alhamdulillah, niat, pemimpin, tulus, melindu...</td>\n",
       "      <td>3</td>\n",
       "      <td>0</td>\n",
       "      <td>3</td>\n",
       "      <td>positif</td>\n",
       "    </tr>\n",
       "    <tr>\n",
       "      <th>1497</th>\n",
       "      <td>uu pendidikan tinggi ini disebutkan di konside...</td>\n",
       "      <td>[pendidikan, disebutkan, konsiderans, permendi...</td>\n",
       "      <td>3</td>\n",
       "      <td>0</td>\n",
       "      <td>3</td>\n",
       "      <td>positif</td>\n",
       "    </tr>\n",
       "    <tr>\n",
       "      <th>2603</th>\n",
       "      <td>kalau permendikbud nya tidak dihargai artinya ...</td>\n",
       "      <td>[permendikbud, dihargai, artinya, loe, jabatan...</td>\n",
       "      <td>4</td>\n",
       "      <td>0</td>\n",
       "      <td>4</td>\n",
       "      <td>positif</td>\n",
       "    </tr>\n",
       "    <tr>\n",
       "      <th>1192</th>\n",
       "      <td>menanyakan besaran nilai anggaran yang dialoka...</td>\n",
       "      <td>[menanyakan, besaran, nilai, dialokasikan, bea...</td>\n",
       "      <td>5</td>\n",
       "      <td>0</td>\n",
       "      <td>5</td>\n",
       "      <td>positif</td>\n",
       "    </tr>\n",
       "  </tbody>\n",
       "</table>\n",
       "<p>4000 rows × 6 columns</p>\n",
       "</div>"
      ],
      "text/plain": [
       "                                                 Tweets  \\\n",
       "379   la ini kita emang lg ngomingin permendikbud tt...   \n",
       "2751  makian khas yg digunakan perundung  penentang ...   \n",
       "3248  tuh arti korban dalam kbbidalam konteks permen...   \n",
       "1336  demi menutupi kasus isu bisnis pcr isu permend...   \n",
       "928   isu bisnis pcr isu permendikbud no  isu korups...   \n",
       "...                                                 ...   \n",
       "2153  bagi negara demokrasi terbesar ketiga di dunia...   \n",
       "3665  alhamdulillah semoga dengan adanya niat baik d...   \n",
       "1497  uu pendidikan tinggi ini disebutkan di konside...   \n",
       "2603  kalau permendikbud nya tidak dihargai artinya ...   \n",
       "1192  menanyakan besaran nilai anggaran yang dialoka...   \n",
       "\n",
       "                                              processed  positive  negative  \\\n",
       "379   [la, emang, ngomingin, permendikbud, kekerasan...         0         8   \n",
       "2751  [makian, perundung, penentang, permendikbud, a...         0         8   \n",
       "3248  [korban, kbbidalam, konteks, permendikbud, dim...         0         8   \n",
       "1336  [menutupi, kasus, isu, pcr, isu, permendikbud,...         0         8   \n",
       "928   [isu, pcr, isu, permendikbud, isu, korupsi, is...         0         7   \n",
       "...                                                 ...       ...       ...   \n",
       "2153  [negara, demokrasi, ketiga, dunia, indonesia, ...         3         0   \n",
       "3665  [alhamdulillah, niat, pemimpin, tulus, melindu...         3         0   \n",
       "1497  [pendidikan, disebutkan, konsiderans, permendi...         3         0   \n",
       "2603  [permendikbud, dihargai, artinya, loe, jabatan...         4         0   \n",
       "1192  [menanyakan, besaran, nilai, dialokasikan, bea...         5         0   \n",
       "\n",
       "      sentiment_score_1 kategori  \n",
       "379                  -8  negatif  \n",
       "2751                 -8  negatif  \n",
       "3248                 -8  negatif  \n",
       "1336                 -8  negatif  \n",
       "928                  -7  negatif  \n",
       "...                 ...      ...  \n",
       "2153                  3  positif  \n",
       "3665                  3  positif  \n",
       "1497                  3  positif  \n",
       "2603                  4  positif  \n",
       "1192                  5  positif  \n",
       "\n",
       "[4000 rows x 6 columns]"
      ]
     },
     "execution_count": 61,
     "metadata": {},
     "output_type": "execute_result"
    }
   ],
   "source": [
    "twit.sort_values('sentiment_score_1')"
   ]
  },
  {
   "cell_type": "markdown",
   "id": "3bcf29e7",
   "metadata": {
    "id": "3bcf29e7"
   },
   "source": [
    "### Eksplorasi Data"
   ]
  },
  {
   "cell_type": "code",
   "execution_count": null,
   "id": "c1ca9750",
   "metadata": {
    "id": "c1ca9750"
   },
   "outputs": [],
   "source": [
    "import matplotlib.pyplot as plt\n",
    "import seaborn as sns"
   ]
  },
  {
   "cell_type": "code",
   "execution_count": null,
   "id": "a3611edc",
   "metadata": {
    "id": "a3611edc",
    "outputId": "5d044a03-e194-4cb7-d090-20787aee5888"
   },
   "outputs": [
    {
     "data": {
      "text/plain": [
       "<AxesSubplot:xlabel='kategori', ylabel='count'>"
      ]
     },
     "execution_count": 13,
     "metadata": {},
     "output_type": "execute_result"
    },
    {
     "data": {
      "image/png": "[encoded data removed]",
      "text/plain": [
       "<Figure size 432x288 with 1 Axes>"
      ]
     },
     "metadata": {
      "needs_background": "light"
     },
     "output_type": "display_data"
    }
   ],
   "source": [
    "sns.countplot(data=twit, x='kategori')"
   ]
  },
  {
   "cell_type": "code",
   "execution_count": null,
   "id": "90588416",
   "metadata": {
    "id": "90588416",
    "outputId": "d2329483-f552-40b7-b056-d6f5e3ca7599"
   },
   "outputs": [
    {
     "data": {
      "text/plain": [
       "72"
      ]
     },
     "execution_count": 14,
     "metadata": {},
     "output_type": "execute_result"
    }
   ],
   "source": [
    "(twit['kategori']=='positif').sum()"
   ]
  },
  {
   "cell_type": "code",
   "execution_count": null,
   "id": "0364a62e",
   "metadata": {
    "id": "0364a62e"
   },
   "outputs": [],
   "source": [
    "data = twit[['kategori','Tweets']]"
   ]
  },
  {
   "cell_type": "code",
   "execution_count": null,
   "id": "b304a28f",
   "metadata": {
    "id": "b304a28f"
   },
   "outputs": [],
   "source": [
    "import re\n",
    "import numpy as np\n",
    "import pandas as pd\n",
    "from sklearn.model_selection import train_test_split\n",
    "import matplotlib.pyplot as plt\n",
    "\n",
    "from keras.models import Sequential, load_model\n",
    "from keras.layers import Dense, LSTM, Embedding, Dropout\n",
    "from keras.preprocessing.text import Tokenizer\n",
    "from keras.preprocessing.sequence import pad_sequences"
   ]
  },
  {
   "cell_type": "code",
   "execution_count": null,
   "id": "48b056e8",
   "metadata": {
    "id": "48b056e8",
    "outputId": "a644fc2d-ed4b-4e44-b05f-63ae653db219"
   },
   "outputs": [
    {
     "data": {
      "text/plain": [
       "<AxesSubplot:ylabel='Frequency'>"
      ]
     },
     "execution_count": 17,
     "metadata": {},
     "output_type": "execute_result"
    },
    {
     "data": {
      "image/png": "[encoded data removed]",
      "text/plain": [
       "<Figure size 432x288 with 1 Axes>"
      ]
     },
     "metadata": {
      "needs_background": "light"
     },
     "output_type": "display_data"
    }
   ],
   "source": [
    "data['Tweets'].str.len().plot.hist()"
   ]
  },
  {
   "cell_type": "markdown",
   "id": "276c8ba3",
   "metadata": {
    "id": "276c8ba3"
   },
   "source": [
    "### Tokenisasi teks"
   ]
  },
  {
   "cell_type": "code",
   "execution_count": null,
   "id": "e9df2b4a",
   "metadata": {
    "id": "e9df2b4a",
    "outputId": "dcd6fe82-0e7e-4fcb-cc5e-a8aeff0e72cc"
   },
   "outputs": [
    {
     "data": {
      "text/plain": [
       "array([[   0,    0,    0,    0,    0,    0,    0,    0,    0,    0,    0,\n",
       "           0,   35,   87, 1155,    9,    8,  665,  139,    9,  172,   44,\n",
       "          41,  382,  190,  354,   87,  197,  164, 1537,  124,  304,   23,\n",
       "        4596,  487,    1,  138,    9, 1537,  215,  304,  382,  122, 1759,\n",
       "          15,    6,  197,  164,   87],\n",
       "       [   0,    0,    0,    0,    0,    0,    0,    0,    0,    0,    0,\n",
       "           0,    0,    0,    0,    0,    0,    0,    0,    0,    0,    0,\n",
       "           0,    0,    0,    0,    0,    0,    0,    0,    0,    0,    0,\n",
       "           0,    0, 4597,   29,  267,    1,    7,  527,   47,    2, 4598,\n",
       "        1538,   10,   69,  286, 1538],\n",
       "       [   0,    0,    0,    0,    0,    0,    0,    0,    0,    0,    0,\n",
       "           0,    0,    0,    0,    0,    0,    0,    0,    0,    0,    0,\n",
       "           0,    0,    0,    0,    0,    0,    0,    0,    0,    0,    0,\n",
       "           0,    0,    0,    0,    0,    0,    0,    0,    0,    0,    0,\n",
       "           0,    0,  267,    1,  547],\n",
       "       [   0,    0,    0,    0,    0,    0,    0,    0,    0,    0,    0,\n",
       "           0,    0,    0,    0,    0,    0,    0,    0,    0,    0,    0,\n",
       "           0,    0,    0,    0,    0,    0,    0,    0,    0,    0,    0,\n",
       "           0,    0,    0,    0,    0,    0,    0,    0,    0,  394,  169,\n",
       "         741,    1,   57,    9,    8],\n",
       "       [   0,    0,    0,    0,    0,    0,    0,    0,    0,    0,    0,\n",
       "           0,    0,    0,    0,    0,    0,    0,    0,    0,    0,    0,\n",
       "           0,    0,    0,    0,    0,    0,    0,    0,    0,    0,    0,\n",
       "           0,    0,  742,  743,   53,  138,    1,   62,    5,   57,    9,\n",
       "           8, 3196, 3197, 3198, 3199]])"
      ]
     },
     "execution_count": 18,
     "metadata": {},
     "output_type": "execute_result"
    }
   ],
   "source": [
    "tokenizer = Tokenizer(num_words=5000, split=\" \")\n",
    "tokenizer.fit_on_texts(data['Tweets'].values)\n",
    "\n",
    "X = tokenizer.texts_to_sequences(data['Tweets'].values)\n",
    "X = pad_sequences(X) # padding our text vector so they all have the same length\n",
    "X[:5]"
   ]
  },
  {
   "cell_type": "markdown",
   "id": "1fd571bf",
   "metadata": {
    "id": "1fd571bf"
   },
   "source": [
    "### Membuat model"
   ]
  },
  {
   "cell_type": "code",
   "execution_count": null,
   "id": "5b2077b9",
   "metadata": {
    "id": "5b2077b9"
   },
   "outputs": [],
   "source": [
    "model = Sequential()\n",
    "model.add(Embedding(5000, 256, input_length=X.shape[1]))\n",
    "model.add(Dropout(0.3))\n",
    "model.add(LSTM(256, return_sequences=True, dropout=0.3, recurrent_dropout=0.2))\n",
    "model.add(LSTM(256, dropout=0.3, recurrent_dropout=0.2))\n",
    "model.add(Dense(3, activation='softmax'))"
   ]
  },
  {
   "cell_type": "code",
   "execution_count": null,
   "id": "a865fe66",
   "metadata": {
    "id": "a865fe66",
    "outputId": "7c9d4cf9-df40-4e5e-8475-3d5f29f6e0e4"
   },
   "outputs": [
    {
     "name": "stdout",
     "output_type": "stream",
     "text": [
      "Model: \"sequential\"\n",
      "_________________________________________________________________\n",
      "Layer (type)                 Output Shape              Param #   \n",
      "=================================================================\n",
      "embedding (Embedding)        (None, 49, 256)           1280000   \n",
      "_________________________________________________________________\n",
      "dropout (Dropout)            (None, 49, 256)           0         \n",
      "_________________________________________________________________\n",
      "lstm (LSTM)                  (None, 49, 256)           525312    \n",
      "_________________________________________________________________\n",
      "lstm_1 (LSTM)                (None, 256)               525312    \n",
      "_________________________________________________________________\n",
      "dense (Dense)                (None, 3)                 771       \n",
      "=================================================================\n",
      "Total params: 2,331,395\n",
      "Trainable params: 2,331,395\n",
      "Non-trainable params: 0\n",
      "_________________________________________________________________\n"
     ]
    }
   ],
   "source": [
    "model.compile(loss='categorical_crossentropy', optimizer='adam', metrics=['accuracy'])\n",
    "model.summary()"
   ]
  },
  {
   "cell_type": "code",
   "execution_count": null,
   "id": "a41c2ca6",
   "metadata": {
    "id": "a41c2ca6",
    "outputId": "c5ea183c-1b12-4964-9a0d-3d72d347ab23",
    "scrolled": true
   },
   "outputs": [
    {
     "name": "stdout",
     "output_type": "stream",
     "text": [
      "negatif [1 0 0]\n",
      "netral [0 1 0]\n",
      "netral [0 1 0]\n",
      "negatif [1 0 0]\n",
      "negatif [1 0 0]\n"
     ]
    },
    {
     "data": {
      "text/plain": [
       "[None, None, None, None, None]"
      ]
     },
     "execution_count": 21,
     "metadata": {},
     "output_type": "execute_result"
    }
   ],
   "source": [
    "y = pd.get_dummies(data['kategori']).values\n",
    "[print(data['kategori'][i], y[i]) for i in range(0,5)]"
   ]
  },
  {
   "cell_type": "code",
   "execution_count": null,
   "id": "7c53a6a0",
   "metadata": {
    "id": "7c53a6a0"
   },
   "outputs": [],
   "source": [
    "X_train, X_test, y_train, y_test = train_test_split(X, y, test_size=0.2, random_state=0)"
   ]
  },
  {
   "cell_type": "markdown",
   "id": "a5e2cee0",
   "metadata": {
    "id": "a5e2cee0"
   },
   "source": [
    "### Training model"
   ]
  },
  {
   "cell_type": "code",
   "execution_count": null,
   "id": "fde95e23",
   "metadata": {
    "id": "fde95e23",
    "outputId": "5f64fdf7-8c61-436c-ae3f-31915ed221a1"
   },
   "outputs": [
    {
     "name": "stdout",
     "output_type": "stream",
     "text": [
      "Epoch 1/8\n",
      "100/100 - 265s - loss: 0.6639 - accuracy: 0.6866\n",
      "Epoch 2/8\n",
      "100/100 - 256s - loss: 0.3677 - accuracy: 0.8637\n",
      "Epoch 3/8\n",
      "100/100 - 270s - loss: 0.1982 - accuracy: 0.9356\n",
      "Epoch 4/8\n",
      "100/100 - 282s - loss: 0.1015 - accuracy: 0.9650\n",
      "Epoch 5/8\n",
      "100/100 - 281s - loss: 0.0721 - accuracy: 0.9747\n",
      "Epoch 6/8\n",
      "100/100 - 281s - loss: 0.0364 - accuracy: 0.9887\n",
      "Epoch 7/8\n",
      "100/100 - 284s - loss: 0.0448 - accuracy: 0.9847\n",
      "Epoch 8/8\n",
      "100/100 - 300s - loss: 0.0252 - accuracy: 0.9922\n"
     ]
    },
    {
     "data": {
      "text/plain": [
       "<tensorflow.python.keras.callbacks.History at 0x813bcdde50>"
      ]
     },
     "execution_count": 23,
     "metadata": {},
     "output_type": "execute_result"
    }
   ],
   "source": [
    "batch_size = 32\n",
    "epochs = 8\n",
    "\n",
    "model.fit(X_train, y_train, epochs=epochs, batch_size=batch_size, verbose=2)"
   ]
  },
  {
   "cell_type": "code",
   "execution_count": null,
   "id": "c8ac0352",
   "metadata": {
    "id": "c8ac0352"
   },
   "outputs": [],
   "source": [
    "model.save('sentiment_analysiss.h5')"
   ]
  },
  {
   "cell_type": "markdown",
   "id": "3d2b73f0",
   "metadata": {
    "id": "3d2b73f0"
   },
   "source": [
    "### Testing model"
   ]
  },
  {
   "cell_type": "code",
   "execution_count": null,
   "id": "7e926a0a",
   "metadata": {
    "id": "7e926a0a",
    "outputId": "7c0a9ad3-fdc7-401a-9543-50a9a4e05b45"
   },
   "outputs": [
    {
     "name": "stdout",
     "output_type": "stream",
     "text": [
      "bukan nya konteksnya kekerasan seksual yah klo kekerasan memang tanpa persetujuan namun jika konteks nya tindakan asusila rasanya baru pas untuk perimbangan sehingga permendikbud terkait kekerasan rasanya sdh pas namun perlu diperkuat dengan yang tindakan asusila nya [9.995315e-01 4.308745e-04 3.763663e-05] [1 0 0]\n",
      "tagarnya aja tolak permendikbud ada gt mereka yg naikan tagar itu buat revisi tagar [2.9454863e-04 9.9957997e-01 1.2545697e-04] [0 1 0]\n",
      "tolak permendikbud katanya [9.9913448e-01 7.2477903e-04 1.4083336e-04] [1 0 0]\n",
      "berikut alasan disahkannya permendikbud penanganan kekerasan seksual [0.12895325 0.8693155  0.00173125] [0 1 0]\n",
      "kpi somasi nadiem terkait permendikbud pencegahan dan penanganan kekerasan seksual terkiniid terkinidotid makassarterkiniid makassarterkinidotid [3.3819745e-04 9.9949443e-01 1.6746379e-04] [0 1 0]\n"
     ]
    },
    {
     "data": {
      "text/plain": [
       "[None, None, None, None, None]"
      ]
     },
     "execution_count": 25,
     "metadata": {},
     "output_type": "execute_result"
    }
   ],
   "source": [
    "predictions = model.predict(X_test)\n",
    "\n",
    "[print(data['Tweets'][i], predictions[i], y_test[i]) for i in range(0, 5)]"
   ]
  },
  {
   "cell_type": "code",
   "execution_count": null,
   "id": "6b585f3b",
   "metadata": {
    "id": "6b585f3b",
    "outputId": "db042ced-ce03-4877-bd47-c0c5b7583fdb",
    "scrolled": false
   },
   "outputs": [
    {
     "name": "stdout",
     "output_type": "stream",
     "text": [
      "Positive predictions: 2\n",
      "Neutral predictions: 317\n",
      "Negative predictions: 481\n",
      "Real positive: 11\n",
      "Real neutral: 359\n",
      "Real negative: 430\n"
     ]
    }
   ],
   "source": [
    "pos_count, neu_count, neg_count = 0, 0, 0\n",
    "real_pos, real_neu, real_neg = 0, 0, 0\n",
    "for i, prediction in enumerate(predictions):\n",
    "    if np.argmax(prediction)==2:\n",
    "        pos_count += 1\n",
    "    elif np.argmax(prediction)==1:\n",
    "        neu_count += 1\n",
    "    else:\n",
    "        neg_count += 1\n",
    "    \n",
    "    if np.argmax(y_test[i])==2:\n",
    "        real_pos += 1\n",
    "    elif np.argmax(y_test[i])==1:    \n",
    "        real_neu += 1\n",
    "    else:\n",
    "        real_neg +=1\n",
    "\n",
    "print('Positive predictions:', pos_count)\n",
    "print('Neutral predictions:', neu_count)\n",
    "print('Negative predictions:', neg_count)\n",
    "print('Real positive:', real_pos)\n",
    "print('Real neutral:', real_neu)\n",
    "print('Real negative:', real_neg)"
   ]
  }
 ],
 "metadata": {
  "colab": {
   "name": "Model Sentiment Analysis.ipynb",
   "provenance": []
  },
  "kernelspec": {
   "display_name": "Python 3",
   "language": "python",
   "name": "python3"
  },
  "language_info": {
   "codemirror_mode": {
    "name": "ipython",
    "version": 3
   },
   "file_extension": ".py",
   "mimetype": "text/x-python",
   "name": "python",
   "nbconvert_exporter": "python",
   "pygments_lexer": "ipython3",
   "version": "3.8.8"
  }
 },
 "nbformat": 4,
 "nbformat_minor": 5
}
